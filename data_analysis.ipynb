{
 "cells": [
  {
   "cell_type": "code",
   "execution_count": 23,
   "id": "98ebaabc",
   "metadata": {},
   "outputs": [],
   "source": [
    "import numpy as np\n",
    "import pandas as pd\n",
    "import seaborn as sns\n",
    "import matplotlib.pyplot as plt\n",
    "from sklearn import datasets"
   ]
  },
  {
   "cell_type": "code",
   "execution_count": 24,
   "id": "347d9781",
   "metadata": {},
   "outputs": [
    {
     "name": "stdout",
     "output_type": "stream",
     "text": [
      "<class 'pandas.core.frame.DataFrame'>\n",
      "RangeIndex: 32581 entries, 0 to 32580\n",
      "Data columns (total 12 columns):\n",
      " #   Column                      Non-Null Count  Dtype  \n",
      "---  ------                      --------------  -----  \n",
      " 0   person_age                  32581 non-null  int64  \n",
      " 1   person_income               32581 non-null  int64  \n",
      " 2   person_home_ownership       32581 non-null  object \n",
      " 3   person_emp_length           31686 non-null  float64\n",
      " 4   loan_intent                 32581 non-null  object \n",
      " 5   loan_grade                  32581 non-null  object \n",
      " 6   loan_amnt                   32581 non-null  int64  \n",
      " 7   loan_int_rate               29465 non-null  float64\n",
      " 8   loan_status                 32581 non-null  int64  \n",
      " 9   loan_percent_income         32581 non-null  float64\n",
      " 10  cb_person_default_on_file   32581 non-null  object \n",
      " 11  cb_person_cred_hist_length  32581 non-null  int64  \n",
      "dtypes: float64(3), int64(5), object(4)\n",
      "memory usage: 3.0+ MB\n",
      "None\n"
     ]
    },
    {
     "data": {
      "text/html": [
       "<div>\n",
       "<style scoped>\n",
       "    .dataframe tbody tr th:only-of-type {\n",
       "        vertical-align: middle;\n",
       "    }\n",
       "\n",
       "    .dataframe tbody tr th {\n",
       "        vertical-align: top;\n",
       "    }\n",
       "\n",
       "    .dataframe thead th {\n",
       "        text-align: right;\n",
       "    }\n",
       "</style>\n",
       "<table border=\"1\" class=\"dataframe\">\n",
       "  <thead>\n",
       "    <tr style=\"text-align: right;\">\n",
       "      <th></th>\n",
       "      <th>person_age</th>\n",
       "      <th>person_income</th>\n",
       "      <th>person_home_ownership</th>\n",
       "      <th>person_emp_length</th>\n",
       "      <th>loan_intent</th>\n",
       "      <th>loan_grade</th>\n",
       "      <th>loan_amnt</th>\n",
       "      <th>loan_int_rate</th>\n",
       "      <th>loan_status</th>\n",
       "      <th>loan_percent_income</th>\n",
       "      <th>cb_person_default_on_file</th>\n",
       "      <th>cb_person_cred_hist_length</th>\n",
       "    </tr>\n",
       "  </thead>\n",
       "  <tbody>\n",
       "    <tr>\n",
       "      <th>0</th>\n",
       "      <td>22</td>\n",
       "      <td>59000</td>\n",
       "      <td>RENT</td>\n",
       "      <td>123.0</td>\n",
       "      <td>PERSONAL</td>\n",
       "      <td>D</td>\n",
       "      <td>35000</td>\n",
       "      <td>16.02</td>\n",
       "      <td>1</td>\n",
       "      <td>0.59</td>\n",
       "      <td>Y</td>\n",
       "      <td>3</td>\n",
       "    </tr>\n",
       "    <tr>\n",
       "      <th>1</th>\n",
       "      <td>21</td>\n",
       "      <td>9600</td>\n",
       "      <td>OWN</td>\n",
       "      <td>5.0</td>\n",
       "      <td>EDUCATION</td>\n",
       "      <td>B</td>\n",
       "      <td>1000</td>\n",
       "      <td>11.14</td>\n",
       "      <td>0</td>\n",
       "      <td>0.10</td>\n",
       "      <td>N</td>\n",
       "      <td>2</td>\n",
       "    </tr>\n",
       "    <tr>\n",
       "      <th>2</th>\n",
       "      <td>25</td>\n",
       "      <td>9600</td>\n",
       "      <td>MORTGAGE</td>\n",
       "      <td>1.0</td>\n",
       "      <td>MEDICAL</td>\n",
       "      <td>C</td>\n",
       "      <td>5500</td>\n",
       "      <td>12.87</td>\n",
       "      <td>1</td>\n",
       "      <td>0.57</td>\n",
       "      <td>N</td>\n",
       "      <td>3</td>\n",
       "    </tr>\n",
       "    <tr>\n",
       "      <th>3</th>\n",
       "      <td>23</td>\n",
       "      <td>65500</td>\n",
       "      <td>RENT</td>\n",
       "      <td>4.0</td>\n",
       "      <td>MEDICAL</td>\n",
       "      <td>C</td>\n",
       "      <td>35000</td>\n",
       "      <td>15.23</td>\n",
       "      <td>1</td>\n",
       "      <td>0.53</td>\n",
       "      <td>N</td>\n",
       "      <td>2</td>\n",
       "    </tr>\n",
       "    <tr>\n",
       "      <th>4</th>\n",
       "      <td>24</td>\n",
       "      <td>54400</td>\n",
       "      <td>RENT</td>\n",
       "      <td>8.0</td>\n",
       "      <td>MEDICAL</td>\n",
       "      <td>C</td>\n",
       "      <td>35000</td>\n",
       "      <td>14.27</td>\n",
       "      <td>1</td>\n",
       "      <td>0.55</td>\n",
       "      <td>Y</td>\n",
       "      <td>4</td>\n",
       "    </tr>\n",
       "  </tbody>\n",
       "</table>\n",
       "</div>"
      ],
      "text/plain": [
       "   person_age  person_income person_home_ownership  person_emp_length  \\\n",
       "0          22          59000                  RENT              123.0   \n",
       "1          21           9600                   OWN                5.0   \n",
       "2          25           9600              MORTGAGE                1.0   \n",
       "3          23          65500                  RENT                4.0   \n",
       "4          24          54400                  RENT                8.0   \n",
       "\n",
       "  loan_intent loan_grade  loan_amnt  loan_int_rate  loan_status  \\\n",
       "0    PERSONAL          D      35000          16.02            1   \n",
       "1   EDUCATION          B       1000          11.14            0   \n",
       "2     MEDICAL          C       5500          12.87            1   \n",
       "3     MEDICAL          C      35000          15.23            1   \n",
       "4     MEDICAL          C      35000          14.27            1   \n",
       "\n",
       "   loan_percent_income cb_person_default_on_file  cb_person_cred_hist_length  \n",
       "0                 0.59                         Y                           3  \n",
       "1                 0.10                         N                           2  \n",
       "2                 0.57                         N                           3  \n",
       "3                 0.53                         N                           2  \n",
       "4                 0.55                         Y                           4  "
      ]
     },
     "execution_count": 24,
     "metadata": {},
     "output_type": "execute_result"
    }
   ],
   "source": [
    "df = pd.read_csv('credit_risk_dataset.csv')\n",
    "\n",
    "print(df.info())\n",
    "df.head()"
   ]
  },
  {
   "cell_type": "code",
   "execution_count": 25,
   "id": "fc9e41f5",
   "metadata": {},
   "outputs": [
    {
     "data": {
      "text/html": [
       "<div>\n",
       "<style scoped>\n",
       "    .dataframe tbody tr th:only-of-type {\n",
       "        vertical-align: middle;\n",
       "    }\n",
       "\n",
       "    .dataframe tbody tr th {\n",
       "        vertical-align: top;\n",
       "    }\n",
       "\n",
       "    .dataframe thead th {\n",
       "        text-align: right;\n",
       "    }\n",
       "</style>\n",
       "<table border=\"1\" class=\"dataframe\">\n",
       "  <thead>\n",
       "    <tr style=\"text-align: right;\">\n",
       "      <th></th>\n",
       "      <th>person_age</th>\n",
       "      <th>person_income</th>\n",
       "      <th>person_emp_length</th>\n",
       "      <th>loan_amnt</th>\n",
       "      <th>loan_int_rate</th>\n",
       "      <th>loan_status</th>\n",
       "      <th>loan_percent_income</th>\n",
       "      <th>cb_person_cred_hist_length</th>\n",
       "    </tr>\n",
       "  </thead>\n",
       "  <tbody>\n",
       "    <tr>\n",
       "      <th>count</th>\n",
       "      <td>32581.000000</td>\n",
       "      <td>3.258100e+04</td>\n",
       "      <td>31686.000000</td>\n",
       "      <td>32581.000000</td>\n",
       "      <td>29465.000000</td>\n",
       "      <td>32581.000000</td>\n",
       "      <td>32581.000000</td>\n",
       "      <td>32581.000000</td>\n",
       "    </tr>\n",
       "    <tr>\n",
       "      <th>mean</th>\n",
       "      <td>27.734600</td>\n",
       "      <td>6.607485e+04</td>\n",
       "      <td>4.789686</td>\n",
       "      <td>9589.371106</td>\n",
       "      <td>11.011695</td>\n",
       "      <td>0.218164</td>\n",
       "      <td>0.170203</td>\n",
       "      <td>5.804211</td>\n",
       "    </tr>\n",
       "    <tr>\n",
       "      <th>std</th>\n",
       "      <td>6.348078</td>\n",
       "      <td>6.198312e+04</td>\n",
       "      <td>4.142630</td>\n",
       "      <td>6322.086646</td>\n",
       "      <td>3.240459</td>\n",
       "      <td>0.413006</td>\n",
       "      <td>0.106782</td>\n",
       "      <td>4.055001</td>\n",
       "    </tr>\n",
       "    <tr>\n",
       "      <th>min</th>\n",
       "      <td>20.000000</td>\n",
       "      <td>4.000000e+03</td>\n",
       "      <td>0.000000</td>\n",
       "      <td>500.000000</td>\n",
       "      <td>5.420000</td>\n",
       "      <td>0.000000</td>\n",
       "      <td>0.000000</td>\n",
       "      <td>2.000000</td>\n",
       "    </tr>\n",
       "    <tr>\n",
       "      <th>25%</th>\n",
       "      <td>23.000000</td>\n",
       "      <td>3.850000e+04</td>\n",
       "      <td>2.000000</td>\n",
       "      <td>5000.000000</td>\n",
       "      <td>7.900000</td>\n",
       "      <td>0.000000</td>\n",
       "      <td>0.090000</td>\n",
       "      <td>3.000000</td>\n",
       "    </tr>\n",
       "    <tr>\n",
       "      <th>50%</th>\n",
       "      <td>26.000000</td>\n",
       "      <td>5.500000e+04</td>\n",
       "      <td>4.000000</td>\n",
       "      <td>8000.000000</td>\n",
       "      <td>10.990000</td>\n",
       "      <td>0.000000</td>\n",
       "      <td>0.150000</td>\n",
       "      <td>4.000000</td>\n",
       "    </tr>\n",
       "    <tr>\n",
       "      <th>75%</th>\n",
       "      <td>30.000000</td>\n",
       "      <td>7.920000e+04</td>\n",
       "      <td>7.000000</td>\n",
       "      <td>12200.000000</td>\n",
       "      <td>13.470000</td>\n",
       "      <td>0.000000</td>\n",
       "      <td>0.230000</td>\n",
       "      <td>8.000000</td>\n",
       "    </tr>\n",
       "    <tr>\n",
       "      <th>max</th>\n",
       "      <td>144.000000</td>\n",
       "      <td>6.000000e+06</td>\n",
       "      <td>123.000000</td>\n",
       "      <td>35000.000000</td>\n",
       "      <td>23.220000</td>\n",
       "      <td>1.000000</td>\n",
       "      <td>0.830000</td>\n",
       "      <td>30.000000</td>\n",
       "    </tr>\n",
       "  </tbody>\n",
       "</table>\n",
       "</div>"
      ],
      "text/plain": [
       "         person_age  person_income  person_emp_length     loan_amnt  \\\n",
       "count  32581.000000   3.258100e+04       31686.000000  32581.000000   \n",
       "mean      27.734600   6.607485e+04           4.789686   9589.371106   \n",
       "std        6.348078   6.198312e+04           4.142630   6322.086646   \n",
       "min       20.000000   4.000000e+03           0.000000    500.000000   \n",
       "25%       23.000000   3.850000e+04           2.000000   5000.000000   \n",
       "50%       26.000000   5.500000e+04           4.000000   8000.000000   \n",
       "75%       30.000000   7.920000e+04           7.000000  12200.000000   \n",
       "max      144.000000   6.000000e+06         123.000000  35000.000000   \n",
       "\n",
       "       loan_int_rate   loan_status  loan_percent_income  \\\n",
       "count   29465.000000  32581.000000         32581.000000   \n",
       "mean       11.011695      0.218164             0.170203   \n",
       "std         3.240459      0.413006             0.106782   \n",
       "min         5.420000      0.000000             0.000000   \n",
       "25%         7.900000      0.000000             0.090000   \n",
       "50%        10.990000      0.000000             0.150000   \n",
       "75%        13.470000      0.000000             0.230000   \n",
       "max        23.220000      1.000000             0.830000   \n",
       "\n",
       "       cb_person_cred_hist_length  \n",
       "count                32581.000000  \n",
       "mean                     5.804211  \n",
       "std                      4.055001  \n",
       "min                      2.000000  \n",
       "25%                      3.000000  \n",
       "50%                      4.000000  \n",
       "75%                      8.000000  \n",
       "max                     30.000000  "
      ]
     },
     "execution_count": 25,
     "metadata": {},
     "output_type": "execute_result"
    }
   ],
   "source": [
    "df.describe()"
   ]
  },
  {
   "cell_type": "markdown",
   "id": "ee0e347e",
   "metadata": {},
   "source": [
    "**OPIS ZBIORU DANYCH**\n",
    "\n",
    "Jest to zbiór danych symulujący dane z biura kredytowego.\n",
    "Kolejne kolumny zawierają kolejno (numeracja tak jak w zbiorze):\n",
    "1. Wiek klienta\n",
    "\n",
    "Zapisana za pomocą liczby całkowitej (integer). Najmniejsza wartość wynosi 20, a najwyższa 144. Należy wziąć to pod uwagę z dwóch powodów. Na początku należy spojrzeć na to, że trzeci kwartyl wieku wynosi 30 co oznacza, że wartość 144 będzie bardzo odstawać od reszty przypadków, co widać też na wykresie poniżej, a dodatkowo najstarsza osoba w historii zmarła w wieku 113 lat, więc każda wyższa wartość jest niezgodna z prawdą.\n",
    "\n",
    "2. Roczny dochód klienta\n",
    "\n",
    "Również przedstawiony w postaci liczby całkowitej. Tutaj podobnie jak w przypadku wieku klientów również znajdziemy wartości skrajne w postaci najwyższego rocznego dochodu wynoszącego 6 milionów. Patrząc na wykres możemy zauważyć, że dochód każdego z pozostałych klientów jest mniejszy niż 2 miliony, a znaczna większość (widzimy to po 3 kwartylu) ma roczny dochód nie większy od 100 tysięcy.\n",
    "\n",
    "3. Status posiadania domu\n",
    "\n",
    "Opisany za pomocą jednej z 4 wartości: \n",
    "* 'OWN' - klient jest w posiadaniu domu\n",
    "* 'RENT' - klient wynajmuje dom\n",
    "* 'MORTGAGE' - klient ma dom z hipoteką\n",
    "* 'OTHER' - inny status mieszkaniowy\n",
    "\n",
    "4. Długość zatrudnienia\n",
    "\n",
    "Przedstawiona za pomocą liczby całkowite długość pracy klienta w latach. W tym przypadku również należy zwrócić uwagę na dwa przypadki w których długość zatrudnienia wynosi 123 lata. Co ciekawe przypadki te występują dla klientów w wieku 22 i 21 lat, co oznacza, że dane są błędne i te przypadki też należy usunąć z data setu.\n",
    "\n",
    "5. Cel kredytu \n",
    "\n",
    "Opisany za pomocą jednej z 6 wartości:\n",
    "* 'PERSONAL' - sprawy prywatne\n",
    "* 'EDUCATION' - w celu edukacji\n",
    "* 'MEDICAL' - w celach zdrowotnych\n",
    "* 'VENTURE' - w celu podróży, wakacji\n",
    "* 'HOMEIMPROVEMENT' - w celu remontu domu\n",
    "* 'DEBTCONSOLITADION'  - w celu konsolidacji zadłużenia\n",
    "\n",
    "6. Ocena kredytu\n",
    "\n",
    "Opisana przy pomocy liter od 'A' (najlepsza ocena) do 'G' (najgorsza ocena). Określana jest ona na podstawie pozostałych wartości innych kolumn.\n",
    "\n",
    "7. Wielkość kredytu\n",
    "\n",
    "Przedstawiona za pomocą liczby całkowitej wielkość zaciągniętego kredytu przez klienta.\n",
    "\n",
    "8. Stopa oprocentowania\n",
    "\n",
    "Przedstawiona przy pomocy liczby zmiennoprzecinkowej (float) stopa oprocentowania.\n",
    "\n",
    "9. Status spłaty kredytu \n",
    "\n",
    "Przedstawiona przy pomocy jednej z dwóch wartości: 0 lub 1. 0 oznacza wartość 'Non default' czyli brak sytuacji, w której klient zaprzestał dokonywania płatności za kredyt, natomiast 1 oznacza 'Default', czyli zatrzymanie płatności.\n",
    "\n",
    "10. Jaką część dochodu stanowi rata kredytu\n",
    "\n",
    "Przedstawiony w postaci liczby zmiennoprzecinkowej z zakresu 0 do 1 stosunek opłat za raty kredytu do dochodu klienta.\n",
    "\n",
    "11. Historia spłat kredytów\n",
    "\n",
    "Przedstawiona w postaci dwóch zmiennych 'Y' oraz 'N' informacja o tym czy w przeszłości wystąpiła sytuacja z zaprzestaniem płatności klienta rat kredytu. 'Y' oznacza 'tak', 'N' - nie.\n",
    "\n",
    "12. Długość historii kredytowej klienta\n",
    "\n",
    "Przedstawiony za pomocą liczby całkowitej okres (w latach) historii kredytowej klienta. "
   ]
  },
  {
   "cell_type": "code",
   "execution_count": 26,
   "id": "0850b784",
   "metadata": {},
   "outputs": [],
   "source": [
    "df = df[(df[\"person_age\"]<=113) & (df[\"person_age\"] > df[\"person_emp_length\"])]"
   ]
  },
  {
   "cell_type": "markdown",
   "id": "a945ca3b",
   "metadata": {},
   "source": [
    "Usunięcie z dataset'u przypadków, w których osoba ma więcej niż 113 lat (nie istniały takie osoby w historii)."
   ]
  },
  {
   "cell_type": "code",
   "execution_count": 27,
   "id": "ab13316c",
   "metadata": {},
   "outputs": [
    {
     "name": "stdout",
     "output_type": "stream",
     "text": [
      "[93.07053941908714, 87.54774637127578, 68.92110502737681, 69.1588785046729]\n",
      "['OWN' 'MORTGAGE' 'RENT' 'OTHER']\n"
     ]
    },
    {
     "data": {
      "image/png": "[encoded data removed]",
      "text/plain": [
       "<Figure size 640x480 with 1 Axes>"
      ]
     },
     "metadata": {},
     "output_type": "display_data"
    }
   ],
   "source": [
    "repayed_percent_home_ownership = []\n",
    "for person_home_ownership in df['person_home_ownership'].unique():\n",
    "    x = len(df[(df['loan_status'] == 0) & (df['person_home_ownership'] == person_home_ownership)]) / len(df[df['person_home_ownership'] == person_home_ownership]) * 100\n",
    "    repayed_percent_home_ownership.append(x)\n",
    "\n",
    "print(repayed_percent_home_ownership)\n",
    "print(df['person_home_ownership'].unique())\n",
    "\n",
    "\n",
    "plt.bar(df['person_home_ownership'].unique(), repayed_percent_home_ownership)\n",
    "plt.xlabel('person_home_ownership')\n",
    "plt.ylabel('percent')\n",
    "plt.grid(axis='y')\n",
    "plt.show()"
   ]
  },
  {
   "attachments": {},
   "cell_type": "markdown",
   "id": "3e4ba1c7",
   "metadata": {},
   "source": [
    "Wykres przedstawia procentowy udizał, osób które spłaciły kredyt (LOAN_STATUS == 0) w zależności od rodzaju zamieszkania.\n",
    "Jak widać kredyty były spłacane najczęściej wśród osób które posiadają nieruchomość (OWN) - 92.53%. \n",
    "Kolejno mamy osoby mieszkające w nieruchomościach zakupionych na kredyt (MORTGAGE) - 87.43%, \n",
    "osoby z grupy OTHER (np. mieszkające z rodzicami) - 69.16% oraz wynajmujące (RENT) - 68.42%.\n"
   ]
  },
  {
   "cell_type": "code",
   "execution_count": 28,
   "id": "bd3bf25c",
   "metadata": {},
   "outputs": [
    {
     "name": "stdout",
     "output_type": "stream",
     "text": [
      "[83.04707379134861, 73.46108190605392, 85.34125697820998, 80.51052729644121, 74.44444444444444, 71.62322274881517]\n",
      "['EDUCATION' 'MEDICAL' 'VENTURE' 'PERSONAL' 'HOMEIMPROVEMENT'\n",
      " 'DEBTCONSOLIDATION']\n"
     ]
    },
    {
     "data": {
      "image/png": "[encoded data removed]",
      "text/plain": [
       "<Figure size 640x480 with 1 Axes>"
      ]
     },
     "metadata": {},
     "output_type": "display_data"
    }
   ],
   "source": [
    "repayed_percent_loan_intent = []\n",
    "for loan_intent in df['loan_intent'].unique():\n",
    "    x = len(df[(df['loan_status'] == 0) & (df['loan_intent'] == loan_intent)]) / len(df[df['loan_intent'] == loan_intent]) * 100\n",
    "    repayed_percent_loan_intent.append(x)\n",
    "\n",
    "print(repayed_percent_loan_intent)\n",
    "print(df['loan_intent'].unique())\n",
    "\n",
    "plt.bar(df['loan_intent'].unique(), repayed_percent_loan_intent)\n",
    "plt.xlabel('loan_intent')\n",
    "plt.ylabel('percent')\n",
    "plt.grid(axis='y')\n",
    "plt.xticks(rotation='vertical')\n",
    "plt.show()"
   ]
  },
  {
   "attachments": {},
   "cell_type": "markdown",
   "id": "750fb7b2",
   "metadata": {},
   "source": [
    "Wykres przedstawia procentowy udizał, osób które spłaciły kredyt (LOAN_STATUS == 0) w zależności od celu kredytu.\n",
    "Jak widać kredyty były spłacane najczęściej przez osóby które wzięły kredyty na podróże (VENTURE) - 85.18%. \n",
    "Najrzadziej zaś przez osoby konsolidujące kredyt - 71.41%."
   ]
  },
  {
   "cell_type": "code",
   "execution_count": 29,
   "id": "c368e127",
   "metadata": {},
   "outputs": [
    {
     "name": "stdout",
     "output_type": "stream",
     "text": [
      "[81.91624121914705, 62.43781094527363]\n",
      "['N' 'Y']\n"
     ]
    },
    {
     "data": {
      "image/png": "[encoded data removed]",
      "text/plain": [
       "<Figure size 640x480 with 1 Axes>"
      ]
     },
     "metadata": {},
     "output_type": "display_data"
    }
   ],
   "source": [
    "repayed_percent_history_default = []\n",
    "for cb_person_default_on_file in df['cb_person_default_on_file'].unique():\n",
    "    x = len(df[(df['loan_status'] == 0) & (df['cb_person_default_on_file'] == cb_person_default_on_file)]) / len(df[df['cb_person_default_on_file'] == cb_person_default_on_file]) * 100\n",
    "    repayed_percent_history_default.append(x)\n",
    "\n",
    "print(repayed_percent_history_default)\n",
    "print(df['cb_person_default_on_file'].unique())\n",
    "\n",
    "plt.bar(df['cb_person_default_on_file'].unique(), repayed_percent_history_default)\n",
    "plt.xlabel('cb_person_default_on_file')\n",
    "plt.ylabel('percent')\n",
    "plt.grid(axis='y')\n",
    "plt.show()"
   ]
  },
  {
   "attachments": {},
   "cell_type": "markdown",
   "id": "064d8f18",
   "metadata": {},
   "source": [
    "Wykres przedstawia udział osób które spłaciły kredyt w zależności od przeszłych problemów ze spłatą kredytów."
   ]
  },
  {
   "cell_type": "code",
   "execution_count": 30,
   "id": "4da42248",
   "metadata": {},
   "outputs": [
    {
     "name": "stdout",
     "output_type": "stream",
     "text": [
      "['OWN' 'MORTGAGE' 'RENT' 'OTHER']\n"
     ]
    }
   ],
   "source": [
    "column_values = df['person_home_ownership'].unique()\n",
    "print(column_values)"
   ]
  },
  {
   "cell_type": "code",
   "execution_count": 31,
   "id": "2c5984f5",
   "metadata": {},
   "outputs": [
    {
     "name": "stdout",
     "output_type": "stream",
     "text": [
      "['EDUCATION' 'MEDICAL' 'VENTURE' 'PERSONAL' 'HOMEIMPROVEMENT'\n",
      " 'DEBTCONSOLIDATION']\n"
     ]
    }
   ],
   "source": [
    "column_values = df['loan_intent'].unique()\n",
    "print(column_values)"
   ]
  },
  {
   "cell_type": "code",
   "execution_count": 32,
   "id": "0d9b6f65",
   "metadata": {},
   "outputs": [
    {
     "name": "stdout",
     "output_type": "stream",
     "text": [
      "['B' 'C' 'A' 'D' 'E' 'F' 'G']\n"
     ]
    }
   ],
   "source": [
    "column_values = df['loan_grade'].unique()\n",
    "print(column_values)"
   ]
  },
  {
   "cell_type": "code",
   "execution_count": 33,
   "id": "ae57ff28",
   "metadata": {},
   "outputs": [
    {
     "name": "stdout",
     "output_type": "stream",
     "text": [
      "['N' 'Y']\n"
     ]
    }
   ],
   "source": [
    "column_values = df['cb_person_default_on_file'].unique()\n",
    "print(column_values)"
   ]
  },
  {
   "cell_type": "markdown",
   "id": "15211cfc",
   "metadata": {},
   "source": [
    "Zmiana wartości w kolumnach na liczbowe."
   ]
  },
  {
   "cell_type": "code",
   "execution_count": 34,
   "id": "045f422e",
   "metadata": {},
   "outputs": [],
   "source": [
    "df = pd.get_dummies(df, prefix=['person_home_ownership'], columns=['person_home_ownership'])\n",
    "df = pd.get_dummies(df, prefix=['loan_intent'], columns=['loan_intent'])\n",
    "df.loan_grade = df.loan_grade.map( {'A':6 , 'B':5, 'C':4, 'D':3, 'E':2, 'F':1, 'G':0} )\n",
    "df.cb_person_default_on_file = df.cb_person_default_on_file.map( {'N':0 , 'Y':1} )"
   ]
  },
  {
   "cell_type": "code",
   "execution_count": 35,
   "id": "7df690de",
   "metadata": {},
   "outputs": [
    {
     "data": {
      "text/html": [
       "<div>\n",
       "<style scoped>\n",
       "    .dataframe tbody tr th:only-of-type {\n",
       "        vertical-align: middle;\n",
       "    }\n",
       "\n",
       "    .dataframe tbody tr th {\n",
       "        vertical-align: top;\n",
       "    }\n",
       "\n",
       "    .dataframe thead th {\n",
       "        text-align: right;\n",
       "    }\n",
       "</style>\n",
       "<table border=\"1\" class=\"dataframe\">\n",
       "  <thead>\n",
       "    <tr style=\"text-align: right;\">\n",
       "      <th></th>\n",
       "      <th>person_age</th>\n",
       "      <th>person_income</th>\n",
       "      <th>person_emp_length</th>\n",
       "      <th>loan_grade</th>\n",
       "      <th>loan_amnt</th>\n",
       "      <th>loan_int_rate</th>\n",
       "      <th>loan_status</th>\n",
       "      <th>loan_percent_income</th>\n",
       "      <th>cb_person_default_on_file</th>\n",
       "      <th>cb_person_cred_hist_length</th>\n",
       "      <th>person_home_ownership_MORTGAGE</th>\n",
       "      <th>person_home_ownership_OTHER</th>\n",
       "      <th>person_home_ownership_OWN</th>\n",
       "      <th>person_home_ownership_RENT</th>\n",
       "      <th>loan_intent_DEBTCONSOLIDATION</th>\n",
       "      <th>loan_intent_EDUCATION</th>\n",
       "      <th>loan_intent_HOMEIMPROVEMENT</th>\n",
       "      <th>loan_intent_MEDICAL</th>\n",
       "      <th>loan_intent_PERSONAL</th>\n",
       "      <th>loan_intent_VENTURE</th>\n",
       "    </tr>\n",
       "  </thead>\n",
       "  <tbody>\n",
       "    <tr>\n",
       "      <th>1</th>\n",
       "      <td>21</td>\n",
       "      <td>9600</td>\n",
       "      <td>5.0</td>\n",
       "      <td>5</td>\n",
       "      <td>1000</td>\n",
       "      <td>11.14</td>\n",
       "      <td>0</td>\n",
       "      <td>0.10</td>\n",
       "      <td>0</td>\n",
       "      <td>2</td>\n",
       "      <td>0</td>\n",
       "      <td>0</td>\n",
       "      <td>1</td>\n",
       "      <td>0</td>\n",
       "      <td>0</td>\n",
       "      <td>1</td>\n",
       "      <td>0</td>\n",
       "      <td>0</td>\n",
       "      <td>0</td>\n",
       "      <td>0</td>\n",
       "    </tr>\n",
       "    <tr>\n",
       "      <th>2</th>\n",
       "      <td>25</td>\n",
       "      <td>9600</td>\n",
       "      <td>1.0</td>\n",
       "      <td>4</td>\n",
       "      <td>5500</td>\n",
       "      <td>12.87</td>\n",
       "      <td>1</td>\n",
       "      <td>0.57</td>\n",
       "      <td>0</td>\n",
       "      <td>3</td>\n",
       "      <td>1</td>\n",
       "      <td>0</td>\n",
       "      <td>0</td>\n",
       "      <td>0</td>\n",
       "      <td>0</td>\n",
       "      <td>0</td>\n",
       "      <td>0</td>\n",
       "      <td>1</td>\n",
       "      <td>0</td>\n",
       "      <td>0</td>\n",
       "    </tr>\n",
       "    <tr>\n",
       "      <th>3</th>\n",
       "      <td>23</td>\n",
       "      <td>65500</td>\n",
       "      <td>4.0</td>\n",
       "      <td>4</td>\n",
       "      <td>35000</td>\n",
       "      <td>15.23</td>\n",
       "      <td>1</td>\n",
       "      <td>0.53</td>\n",
       "      <td>0</td>\n",
       "      <td>2</td>\n",
       "      <td>0</td>\n",
       "      <td>0</td>\n",
       "      <td>0</td>\n",
       "      <td>1</td>\n",
       "      <td>0</td>\n",
       "      <td>0</td>\n",
       "      <td>0</td>\n",
       "      <td>1</td>\n",
       "      <td>0</td>\n",
       "      <td>0</td>\n",
       "    </tr>\n",
       "    <tr>\n",
       "      <th>4</th>\n",
       "      <td>24</td>\n",
       "      <td>54400</td>\n",
       "      <td>8.0</td>\n",
       "      <td>4</td>\n",
       "      <td>35000</td>\n",
       "      <td>14.27</td>\n",
       "      <td>1</td>\n",
       "      <td>0.55</td>\n",
       "      <td>1</td>\n",
       "      <td>4</td>\n",
       "      <td>0</td>\n",
       "      <td>0</td>\n",
       "      <td>0</td>\n",
       "      <td>1</td>\n",
       "      <td>0</td>\n",
       "      <td>0</td>\n",
       "      <td>0</td>\n",
       "      <td>1</td>\n",
       "      <td>0</td>\n",
       "      <td>0</td>\n",
       "    </tr>\n",
       "    <tr>\n",
       "      <th>5</th>\n",
       "      <td>21</td>\n",
       "      <td>9900</td>\n",
       "      <td>2.0</td>\n",
       "      <td>6</td>\n",
       "      <td>2500</td>\n",
       "      <td>7.14</td>\n",
       "      <td>1</td>\n",
       "      <td>0.25</td>\n",
       "      <td>0</td>\n",
       "      <td>2</td>\n",
       "      <td>0</td>\n",
       "      <td>0</td>\n",
       "      <td>1</td>\n",
       "      <td>0</td>\n",
       "      <td>0</td>\n",
       "      <td>0</td>\n",
       "      <td>0</td>\n",
       "      <td>0</td>\n",
       "      <td>0</td>\n",
       "      <td>1</td>\n",
       "    </tr>\n",
       "  </tbody>\n",
       "</table>\n",
       "</div>"
      ],
      "text/plain": [
       "   person_age  person_income  person_emp_length  loan_grade  loan_amnt  \\\n",
       "1          21           9600                5.0           5       1000   \n",
       "2          25           9600                1.0           4       5500   \n",
       "3          23          65500                4.0           4      35000   \n",
       "4          24          54400                8.0           4      35000   \n",
       "5          21           9900                2.0           6       2500   \n",
       "\n",
       "   loan_int_rate  loan_status  loan_percent_income  cb_person_default_on_file  \\\n",
       "1          11.14            0                 0.10                          0   \n",
       "2          12.87            1                 0.57                          0   \n",
       "3          15.23            1                 0.53                          0   \n",
       "4          14.27            1                 0.55                          1   \n",
       "5           7.14            1                 0.25                          0   \n",
       "\n",
       "   cb_person_cred_hist_length  person_home_ownership_MORTGAGE  \\\n",
       "1                           2                               0   \n",
       "2                           3                               1   \n",
       "3                           2                               0   \n",
       "4                           4                               0   \n",
       "5                           2                               0   \n",
       "\n",
       "   person_home_ownership_OTHER  person_home_ownership_OWN  \\\n",
       "1                            0                          1   \n",
       "2                            0                          0   \n",
       "3                            0                          0   \n",
       "4                            0                          0   \n",
       "5                            0                          1   \n",
       "\n",
       "   person_home_ownership_RENT  loan_intent_DEBTCONSOLIDATION  \\\n",
       "1                           0                              0   \n",
       "2                           0                              0   \n",
       "3                           1                              0   \n",
       "4                           1                              0   \n",
       "5                           0                              0   \n",
       "\n",
       "   loan_intent_EDUCATION  loan_intent_HOMEIMPROVEMENT  loan_intent_MEDICAL  \\\n",
       "1                      1                            0                    0   \n",
       "2                      0                            0                    1   \n",
       "3                      0                            0                    1   \n",
       "4                      0                            0                    1   \n",
       "5                      0                            0                    0   \n",
       "\n",
       "   loan_intent_PERSONAL  loan_intent_VENTURE  \n",
       "1                     0                    0  \n",
       "2                     0                    0  \n",
       "3                     0                    0  \n",
       "4                     0                    0  \n",
       "5                     0                    1  "
      ]
     },
     "execution_count": 35,
     "metadata": {},
     "output_type": "execute_result"
    }
   ],
   "source": [
    "df.head()"
   ]
  },
  {
   "cell_type": "code",
   "execution_count": 42,
   "id": "70cdba2e",
   "metadata": {},
   "outputs": [],
   "source": [
    "columns = ['person_age', 'person_income', 'person_emp_length', 'loan_grade', 'loan_amnt', 'loan_int_rate',  'loan_percent_income']\n",
    "sns.pairplot(df[columns], kind=\"scatter\")\n",
    "plt.show()"
   ]
  },
  {
   "cell_type": "code",
   "execution_count": 37,
   "id": "05ca010d",
   "metadata": {},
   "outputs": [
    {
     "data": {
      "image/png": "[encoded data removed]",
      "text/plain": [
       "<Figure size 512x384 with 2 Axes>"
      ]
     },
     "metadata": {},
     "output_type": "display_data"
    }
   ],
   "source": [
    "plt.figure(dpi = 80)\n",
    "sns.heatmap(df[columns].corr(),annot = df[columns].corr())\n",
    "plt.show()"
   ]
  },
  {
   "cell_type": "code",
   "execution_count": 38,
   "id": "4fe2b3a8",
   "metadata": {},
   "outputs": [],
   "source": [
    "#print(df.columns)\n",
    "\n",
    "#print(df[\"loan_int_rate\"].unique())\n",
    "pd.set_option('display.max_rows', 20)\n",
    "# print(df[\"loan_int_rate\"])\n",
    "df1 = df.isnull()\n",
    "#print(df1)\n",
    "for c in df1.columns:\n",
    "    if True in df1[c]:\n",
    "        print(c)"
   ]
  },
  {
   "cell_type": "markdown",
   "id": "9ef48d70",
   "metadata": {},
   "source": [
    "Sprawdzamy które kolumny zawierają braki:"
   ]
  },
  {
   "cell_type": "code",
   "execution_count": 39,
   "id": "a4d599ea",
   "metadata": {},
   "outputs": [
    {
     "name": "stdout",
     "output_type": "stream",
     "text": [
      "Kolumna loan_int_rate zawiera braki.\n"
     ]
    }
   ],
   "source": [
    "\n",
    "for col in df.columns:\n",
    "    if df[col].isnull().values.any():\n",
    "        print(f'Kolumna {col} zawiera braki.')\n"
   ]
  },
  {
   "cell_type": "code",
   "execution_count": 40,
   "id": "bef0d52a",
   "metadata": {},
   "outputs": [
    {
     "name": "stdout",
     "output_type": "stream",
     "text": [
      "Liczba braków w kolumnie person_emp_length:  0\n",
      "Liczba braków w kolumnie loan_int_rate:  3047\n"
     ]
    }
   ],
   "source": [
    "print(\"Liczba braków w kolumnie person_emp_length: \",df['person_emp_length'].isnull().sum())\n",
    "print(\"Liczba braków w kolumnie loan_int_rate: \",df['loan_int_rate'].isnull().sum())"
   ]
  },
  {
   "cell_type": "markdown",
   "id": "a323aca3",
   "metadata": {},
   "source": [
    "Jako że danych nie jest dużo to usunięcie wierszy ograniczy nasz model, dlatego w miejsce brakujących danych wstawimy mediany wartości w danych kolumnach. Niestety umożliwi to pojawienie się błędu statystycznego, ale na szczęście wartości tych kolumn nie posiadają zbyt dużego rozrzutu. "
   ]
  },
  {
   "cell_type": "code",
   "execution_count": 41,
   "id": "5b51d36b",
   "metadata": {},
   "outputs": [],
   "source": [
    "df['person_emp_length'].fillna(df['person_emp_length'].median(), inplace=True)\n",
    "df['loan_int_rate'].fillna(df['loan_int_rate'].median(), inplace=True)"
   ]
  }
 ],
 "metadata": {
  "kernelspec": {
   "display_name": "Python 3 (ipykernel)",
   "language": "python",
   "name": "python3"
  },
  "language_info": {
   "codemirror_mode": {
    "name": "ipython",
    "version": 3
   },
   "file_extension": ".py",
   "mimetype": "text/x-python",
   "name": "python",
   "nbconvert_exporter": "python",
   "pygments_lexer": "ipython3",
   "version": "3.9.7"
  },
  "vscode": {
   "interpreter": {
    "hash": "9fa05cfeccb8ee6b62565e4a6dd0db56387987fbc6dbc846e860ac653be591a6"
   }
  }
 },
 "nbformat": 4,
 "nbformat_minor": 5
}
